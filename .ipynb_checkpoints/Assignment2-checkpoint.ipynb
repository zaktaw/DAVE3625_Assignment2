{
 "cells": [
  {
   "cell_type": "markdown",
   "id": "3a7e67dc",
   "metadata": {},
   "source": [
    "# Assignment 2: Machine Learning"
   ]
  },
  {
   "cell_type": "markdown",
   "id": "38676b69",
   "metadata": {},
   "source": [
    "## 1. Pick one use case\n",
    "\n",
    "Predict passenger data for Ruter"
   ]
  },
  {
   "cell_type": "markdown",
   "id": "2d4d0653",
   "metadata": {},
   "source": [
    "## 2. Explore and research which algorithm would work best for this use case (regression or classification)\n",
    "\n",
    "Regression"
   ]
  },
  {
   "cell_type": "markdown",
   "id": "068986df",
   "metadata": {},
   "source": [
    "## 3. Document your findings in a file (3-5 lines) on why you chose this algorithm\n",
    "\n",
    "I chose regression based on what kind of date we are going to predict.\n",
    "While classification algorithms are suited for discrete data (data that can be divided into categories),\n",
    "regression algorithms are suited for continous data (data that "
   ]
  },
  {
   "cell_type": "markdown",
   "id": "78a4ef15",
   "metadata": {},
   "source": [
    "## 4. Train the algorithm using Python"
   ]
  },
  {
   "cell_type": "code",
   "execution_count": 8,
   "id": "89f27dff",
   "metadata": {},
   "outputs": [],
   "source": [
    "# Import modules\n",
    "\n",
    "%matplotlib inline\n",
    "\n",
    "import numpy as np\n",
    "import pandas as pd\n",
    "import matplotlib.pyplot as plt\n",
    "\n",
    "from sklearn import metrics\n",
    "from sklearn import preprocessing\n",
    "from sklearn.linear_model import LinearRegression\n",
    "from sklearn.model_selection import train_test_split\n",
    "\n",
    "import datetime as dt\n",
    "import seaborn as sns\n",
    "\n",
    "# Import data\n",
    "\n",
    "url = \"https://raw.githubusercontent.com/umaimehm/Intro_to_AI_2021/main/assignment1/Ruter_data.csv\"\n",
    "df = pd.read_csv(url, sep=';')"
   ]
  },
  {
   "cell_type": "code",
   "execution_count": 24,
   "id": "9d478a87",
   "metadata": {},
   "outputs": [
    {
     "data": {
      "image/png": "[encoded data removed]",
      "text/plain": [
       "<Figure size 432x288 with 1 Axes>"
      ]
     },
     "metadata": {
      "needs_background": "light"
     },
     "output_type": "display_data"
    },
    {
     "name": "stdout",
     "output_type": "stream",
     "text": [
      "MSE = 60.718089142595886\n"
     ]
    }
   ],
   "source": [
    "# Convert date attribute to a numeric type \n",
    "\n",
    "df['Dato_numeric'] = pd.to_datetime(df['Dato'])\n",
    "df['Dato_numeric'] = df['Dato_numeric'].map(dt.datetime.toordinal)\n",
    "\n",
    "# Extract input (date) and output (passengers) variables, using only entries for bus number 100\n",
    "\n",
    "X = pd.DataFrame(df['Dato_numeric'].loc[df['Linjenavn'] == '100'])\n",
    "y = pd.DataFrame(df['Passasjerer_Ombord'].loc[df['Linjenavn'] == '100'])\n",
    "\n",
    "# split the set into a training and testing set\n",
    "\n",
    "X_train, X_test, y_train, y_test = train_test_split(X, y, test_size=0.33, random_state=42)\n",
    "\n",
    "linear_regressor = LinearRegression()  # create object for the class\n",
    "linear_regressor.fit(X_train, y_train)  # perform linear regression\n",
    "Y_pred = linear_regressor.predict(X_train)  # make predictions\n",
    "\n",
    "plt.scatter(X_train, y_train)\n",
    "plt.plot(X_train, Y_pred, color='red')\n",
    "plt.show()\n",
    "print( \"MSE = \"+str(metrics.mean_squared_error(y_train,Y_pred)))"
   ]
  },
  {
   "cell_type": "code",
   "execution_count": 26,
   "id": "6cb9b856",
   "metadata": {},
   "outputs": [
    {
     "data": {
      "text/plain": [
       "array([  1,   0,   7,  13,   6,   3,  14,  24,  12,  -3,  25,  31,  17,\n",
       "        16,   4,   5,  -6,  30,  11,  15,   9,   2,  10,  -4,  21,  -2,\n",
       "        -1,   8,  18,  -7,  33,  -5,  26,  23,  19,  28,  20,  -8,  37,\n",
       "        22,  27,  29,  40,  -9, -10], dtype=int64)"
      ]
     },
     "execution_count": 26,
     "metadata": {},
     "output_type": "execute_result"
    }
   ],
   "source": []
  }
 ],
 "metadata": {
  "kernelspec": {
   "display_name": "Python 3 (ipykernel)",
   "language": "python",
   "name": "python3"
  },
  "language_info": {
   "codemirror_mode": {
    "name": "ipython",
    "version": 3
   },
   "file_extension": ".py",
   "mimetype": "text/x-python",
   "name": "python",
   "nbconvert_exporter": "python",
   "pygments_lexer": "ipython3",
   "version": "3.8.11"
  }
 },
 "nbformat": 4,
 "nbformat_minor": 5
}
