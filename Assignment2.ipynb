{
 "cells": [
  {
   "cell_type": "markdown",
   "id": "3a7e67dc",
   "metadata": {},
   "source": [
    "# Assignment 2: Machine Learning"
   ]
  },
  {
   "cell_type": "markdown",
   "id": "38676b69",
   "metadata": {},
   "source": [
    "## 1. Pick one use case\n",
    "\n",
    "Predict passenger data for Ruter"
   ]
  },
  {
   "cell_type": "markdown",
   "id": "2d4d0653",
   "metadata": {},
   "source": [
    "## 2. Explore and research which algorithm would work best for this use case (regression or classification)\n",
    "\n",
    "Regression"
   ]
  },
  {
   "cell_type": "markdown",
   "id": "068986df",
   "metadata": {},
   "source": [
    "## 3. Document your findings in a file (3-5 lines) on why you chose this algorithm\n",
    "\n",
    "I chose regression based on what kind of data we are going to predict.\n",
    "While classification algorithms are suited for discrete data (data that can be divided into categories),\n",
    "regression algorithms are suited for continous data (data that go on a continous scale).\n",
    "The attribute \"number of passengers\" is going to be predicted, which is continous data, therefore I chose to use a regression algorithm."
   ]
  },
  {
   "cell_type": "markdown",
   "id": "78a4ef15",
   "metadata": {},
   "source": [
    "## 4. Train the algorithm using Python"
   ]
  },
  {
   "cell_type": "code",
   "execution_count": 1,
   "id": "89f27dff",
   "metadata": {},
   "outputs": [],
   "source": [
    "# Import modules\n",
    "\n",
    "%matplotlib inline\n",
    "\n",
    "import numpy as np\n",
    "import pandas as pd\n",
    "import matplotlib.pyplot as plt\n",
    "\n",
    "from sklearn import metrics\n",
    "from sklearn import preprocessing\n",
    "from sklearn.linear_model import LinearRegression\n",
    "from sklearn.model_selection import train_test_split\n",
    "\n",
    "import datetime as dt\n",
    "import pickle\n",
    "\n",
    "# Import data\n",
    "\n",
    "url = \"https://raw.githubusercontent.com/umaimehm/Intro_to_AI_2021/main/assignment1/Ruter_data.csv\"\n",
    "df = pd.read_csv(url, sep=';')"
   ]
  },
  {
   "cell_type": "code",
   "execution_count": 2,
   "id": "9d478a87",
   "metadata": {},
   "outputs": [],
   "source": [
    "# Convert date attribute to a numeric type \n",
    "\n",
    "df['Dato_numeric'] = pd.to_datetime(df['Dato'], dayfirst=True)\n",
    "df['Dato_numeric'] = df['Dato_numeric'].map(dt.datetime.toordinal)"
   ]
  },
  {
   "cell_type": "code",
   "execution_count": 3,
   "id": "0400f3fc",
   "metadata": {},
   "outputs": [],
   "source": [
    "# Extract input (date) and output (passengers) variables, using only entries for bus number 100\n",
    "\n",
    "X = pd.DataFrame(df['Dato_numeric'].loc[df['Linjenavn'] == '100'])\n",
    "y = pd.DataFrame(df['Passasjerer_Ombord'].loc[df['Linjenavn'] == '100'])"
   ]
  },
  {
   "cell_type": "code",
   "execution_count": 4,
   "id": "ac1c3b76",
   "metadata": {},
   "outputs": [],
   "source": [
    "# split the set into a training and testing set\n",
    "\n",
    "X_train, X_test, y_train, y_test = train_test_split(X, y, test_size=0.33, random_state=42)"
   ]
  },
  {
   "cell_type": "code",
   "execution_count": 5,
   "id": "aabbbeac",
   "metadata": {},
   "outputs": [
    {
     "data": {
      "image/png": "[encoded data removed]",
      "text/plain": [
       "<Figure size 432x288 with 1 Axes>"
      ]
     },
     "metadata": {
      "needs_background": "light"
     },
     "output_type": "display_data"
    },
    {
     "name": "stdout",
     "output_type": "stream",
     "text": [
      "Prediction percentage score (MSE) = 61.09323494155206\n"
     ]
    }
   ],
   "source": [
    "# train the algorithm\n",
    "\n",
    "linear_regressor = LinearRegression()\n",
    "linear_regressor.fit(X_train, y_train)\n",
    "Y_pred = linear_regressor.predict(X_train)\n",
    "\n",
    "plt.scatter(X_train, y_train)\n",
    "plt.plot(X_train, Y_pred, color='red')\n",
    "plt.show()\n",
    "print( \"Prediction percentage score (MSE) = \"+str(metrics.mean_squared_error(y_train,Y_pred)))"
   ]
  },
  {
   "cell_type": "code",
   "execution_count": 6,
   "id": "6cb9b856",
   "metadata": {},
   "outputs": [
    {
     "name": "stdout",
     "output_type": "stream",
     "text": [
      "Number of passengers on 30/09/2020: 7.715814770713678\n",
      "Number of passengers on 1/12/2020: 8.036292182709076\n",
      "Number of passengers on 5/5/2021: 8.837485712696889\n",
      "Number of passengers on 20/08/2022: 11.277249236272837\n"
     ]
    }
   ],
   "source": [
    "# make some predictions\n",
    "\n",
    "# function that makes it easier to make predictions\n",
    "# takes in an input date and converts it to a numeric value, since the model requires the date to be a numeric value\n",
    "# takes in a model, so we can use the function later when loading a model\n",
    "def make_prediction(input_date, model):\n",
    "    \n",
    "    date_numeric = pd.to_datetime(input_date, dayfirst=True) \n",
    "    date_numeric = date_numeric.toordinal()\n",
    "    \n",
    "    pred = model.predict([[date_numeric]])\n",
    "    \n",
    "    print(f\"Number of passengers on {input_date}: {pred[0][0]}\")\n",
    "\n",
    "make_prediction('30/09/2020', linear_regressor)\n",
    "make_prediction('1/12/2020', linear_regressor)\n",
    "make_prediction('5/5/2021', linear_regressor)\n",
    "make_prediction('20/08/2022', linear_regressor)"
   ]
  },
  {
   "cell_type": "code",
   "execution_count": 7,
   "id": "1b38ff5a",
   "metadata": {},
   "outputs": [],
   "source": [
    "# save the model\n",
    "\n",
    "pickle.dump(linear_regressor, open('regression_passengers.sav', 'wb'))"
   ]
  },
  {
   "cell_type": "code",
   "execution_count": 8,
   "id": "a885f092",
   "metadata": {},
   "outputs": [
    {
     "name": "stdout",
     "output_type": "stream",
     "text": [
      "Number of passengers on 30/09/2020: 7.715814770713678\n"
     ]
    }
   ],
   "source": [
    "# load model and test if it works\n",
    "\n",
    "loaded_model = pickle.load(open('regression_passengers.sav', 'rb'))\n",
    "\n",
    "make_prediction('30/09/2020', loaded_model)"
   ]
  }
 ],
 "metadata": {
  "kernelspec": {
   "display_name": "Python 3 (ipykernel)",
   "language": "python",
   "name": "python3"
  },
  "language_info": {
   "codemirror_mode": {
    "name": "ipython",
    "version": 3
   },
   "file_extension": ".py",
   "mimetype": "text/x-python",
   "name": "python",
   "nbconvert_exporter": "python",
   "pygments_lexer": "ipython3",
   "version": "3.8.11"
  }
 },
 "nbformat": 4,
 "nbformat_minor": 5
}
