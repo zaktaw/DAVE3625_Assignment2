{
 "cells": [
  {
   "cell_type": "markdown",
   "id": "14e1c320",
   "metadata": {},
   "source": [
    "# Assignment 2: Machine Learning"
   ]
  },
  {
   "cell_type": "markdown",
   "id": "9ddaca5b",
   "metadata": {},
   "source": [
    "## 1. Pick one use case\n",
    "\n",
    "Predict passenger data for Ruter"
   ]
  },
  {
   "cell_type": "markdown",
   "id": "5f832be6",
   "metadata": {},
   "source": [
    "## 2. Explore and research which algorithm would work best for this use case (regression or classification)\n",
    "\n",
    "Regression"
   ]
  },
  {
   "cell_type": "markdown",
   "id": "db7581ee",
   "metadata": {},
   "source": [
    "## 3. Document your findings in a file (3-5 lines) on why you chose this algorithm"
   ]
  },
  {
   "cell_type": "markdown",
   "id": "d03dcab3",
   "metadata": {},
   "source": [
    "## 4. Train the algorithm using Python"
   ]
  },
  {
   "cell_type": "code",
   "execution_count": null,
   "id": "7f47e891",
   "metadata": {},
   "outputs": [],
   "source": [
    "# Import modules\n",
    "\n",
    "%matplotlib inline\n",
    "\n",
    "import numpy as np\n",
    "import pandas as pd\n",
    "import matplotlib.pyplot as plt\n",
    "\n",
    "from sklearn import metrics\n",
    "from sklearn import preprocessing\n",
    "from sklearn.linear_model import LinearRegression\n",
    "from sklearn.model_selection import train_test_split\n",
    "\n",
    "# Import data\n",
    "\n",
    "url = \"https://raw.githubusercontent.com/umaimehm/Intro_to_AI_2021/main/assignment1/Ruter_data.csv\"\n",
    "df = pd.read_csv(url, sep=';')"
   ]
  }
 ],
 "metadata": {
  "kernelspec": {
   "display_name": "Python 3 (ipykernel)",
   "language": "python",
   "name": "python3"
  },
  "language_info": {
   "codemirror_mode": {
    "name": "ipython",
    "version": 3
   },
   "file_extension": ".py",
   "mimetype": "text/x-python",
   "name": "python",
   "nbconvert_exporter": "python",
   "pygments_lexer": "ipython3",
   "version": "3.8.11"
  }
 },
 "nbformat": 4,
 "nbformat_minor": 5
}
